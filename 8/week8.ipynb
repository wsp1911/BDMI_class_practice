{
 "cells": [
  {
   "cell_type": "code",
   "execution_count": 25,
   "metadata": {},
   "outputs": [],
   "source": [
    "import pandas as pd\n",
    "import numpy as np\n",
    "import matplotlib.pyplot as plt"
   ]
  },
  {
   "cell_type": "code",
   "execution_count": 3,
   "metadata": {},
   "outputs": [],
   "source": [
    "data = {\"id\":pd.Series([\"2017010807\",\"2017010870\"],index=[\"wsp\",\"ztj\"]),\n",
    "        \"gender\":pd.Series([\"male\",\"female\"],index=[\"wsp\",\"ztj\"])}"
   ]
  },
  {
   "cell_type": "code",
   "execution_count": 4,
   "metadata": {},
   "outputs": [
    {
     "name": "stdout",
     "output_type": "stream",
     "text": [
      "             id  gender\n",
      "wsp  2017010807    male\n",
      "ztj  2017010870  female\n"
     ]
    }
   ],
   "source": [
    "data = pd.DataFrame(data)\n",
    "print(data)"
   ]
  },
  {
   "cell_type": "code",
   "execution_count": 5,
   "metadata": {},
   "outputs": [
    {
     "name": "stdout",
     "output_type": "stream",
     "text": [
      "id        2017010807\n",
      "gender          male\n",
      "Name: wsp, dtype: object\n"
     ]
    }
   ],
   "source": [
    "print(data.loc[\"wsp\"])"
   ]
  },
  {
   "cell_type": "code",
   "execution_count": 6,
   "metadata": {},
   "outputs": [
    {
     "name": "stdout",
     "output_type": "stream",
     "text": [
      "wsp    2017010807\n",
      "ztj    2017010870\n",
      "Name: id, dtype: object\n"
     ]
    }
   ],
   "source": [
    "print(data[\"id\"])"
   ]
  },
  {
   "cell_type": "code",
   "execution_count": 7,
   "metadata": {},
   "outputs": [
    {
     "name": "stdout",
     "output_type": "stream",
     "text": [
      "id        2017010807\n",
      "gender          male\n",
      "Name: wsp, dtype: object\n"
     ]
    }
   ],
   "source": [
    "print(data.iloc[0])"
   ]
  },
  {
   "cell_type": "code",
   "execution_count": 11,
   "metadata": {},
   "outputs": [
    {
     "name": "stdout",
     "output_type": "stream",
     "text": [
      "             id gender\n",
      "wsp  2017010807   male\n"
     ]
    }
   ],
   "source": [
    "print(data[0:1])"
   ]
  },
  {
   "cell_type": "code",
   "execution_count": 10,
   "metadata": {},
   "outputs": [
    {
     "name": "stdout",
     "output_type": "stream",
     "text": [
      "             id gender\n",
      "wsp  2017010807   male\n"
     ]
    }
   ],
   "source": [
    "print(data[[True,False]])"
   ]
  },
  {
   "cell_type": "code",
   "execution_count": 22,
   "metadata": {},
   "outputs": [
    {
     "name": "stdout",
     "output_type": "stream",
     "text": [
      "4.0\n"
     ]
    }
   ],
   "source": [
    "def MSE(a,s=None):\n",
    "    return np.sum((a-s)**2)/a.size if s is not None else np.sum((a-np.mean(a))**2)/a.size\n",
    "\n",
    "a = np.array([72, 94, 79, 83, 65, 81, 73, 67, 85, 82])\n",
    "print(MSE(a,a-2))"
   ]
  },
  {
   "cell_type": "code",
   "execution_count": 24,
   "metadata": {},
   "outputs": [
    {
     "name": "stdout",
     "output_type": "stream",
     "text": [
      "0.10536051565782628\n",
      "2.3025850929940455\n",
      "0.2231435513142097\n"
     ]
    }
   ],
   "source": [
    "def CE(a, b):\n",
    "    return -np.sum(a*np.log(b))\n",
    "\n",
    "\n",
    "print(CE(np.array([1, 0]), np.array([0.9, 0.1])))\n",
    "print(CE(np.array([1, 0]), np.array([0.1, 0.9])))\n",
    "print(CE(np.array([0, 1]), np.array([0.2, 0.8])))"
   ]
  },
  {
   "cell_type": "code",
   "execution_count": 29,
   "metadata": {},
   "outputs": [
    {
     "name": "stdout",
     "output_type": "stream",
     "text": [
      "[[-0.6882084   1.09473185 -0.64667119  0.14414629]\n",
      " [-1.50128383  0.10262278 -2.99018585  0.54002846]\n",
      " [-0.4902759  -0.7573055   0.28189489 -0.8092373 ]\n",
      " [-0.14768079 -0.66521363 -0.72395254 -1.92935531]]\n",
      "[[[ 0.06204503  0.13707508  0.0711302  -2.1620055   1.16476794\n",
      "   -2.61672696]\n",
      "  [ 1.36705096 -1.21703924  2.25719229 -1.09460105  1.3838433\n",
      "   -0.92351856]\n",
      "  [ 0.54670037 -0.42026684  0.88753098 -1.33468541  0.13488257\n",
      "   -0.24934627]\n",
      "  [ 2.49895494  1.31859937 -0.00502772  0.18138806  0.18244312\n",
      "   -1.78206331]\n",
      "  [-1.02788424 -0.77072343  0.033165    0.31294723  1.75179864\n",
      "   -1.31348255]]\n",
      "\n",
      " [[ 0.66725168 -0.33120692 -0.32185518 -1.25405324 -0.55202494\n",
      "   -0.73949044]\n",
      "  [-0.71105467 -0.3238888  -0.91300155  0.22926458  0.61439242\n",
      "   -1.91334392]\n",
      "  [-0.6064469  -0.5765003  -0.20725783  0.86469126  1.41725917\n",
      "    1.37843864]\n",
      "  [-0.0655154   0.62912409  0.31060016  0.3563538   2.01266758\n",
      "   -0.86020928]\n",
      "  [-0.01666742 -1.35717523 -0.01058115  0.49591085  1.16541409\n",
      "   -1.0511401 ]]\n",
      "\n",
      " [[ 0.08108856  0.77427824 -1.1601756  -1.0208548   0.95870272\n",
      "   -0.05333797]\n",
      "  [ 0.73154154  0.28031018  0.50813296 -0.62120602  0.33792247\n",
      "    0.01826723]\n",
      "  [ 0.41388687  0.76904814  0.82363849 -1.64977443  0.22762122\n",
      "   -0.07803248]\n",
      "  [-1.63356111  0.05824129 -1.90304441 -0.14485331  1.21588692\n",
      "   -1.79364445]\n",
      "  [-1.50194556 -0.13982736 -0.82464212 -0.52170143  0.01192177\n",
      "    0.28316182]]\n",
      "\n",
      " [[-0.26564046 -0.69787199  0.78250742  0.77090209  0.49159598\n",
      "    0.35831961]\n",
      "  [-0.75758653  1.62571339 -1.8883786  -0.26725421 -0.31563535\n",
      "    1.94073539]\n",
      "  [ 0.29636522  1.40423156 -1.60648834  0.1552883  -0.65803785\n",
      "    0.10657534]\n",
      "  [ 0.98724438  0.55042393 -0.36102673 -0.97617937 -1.70547468\n",
      "   -0.97381328]\n",
      "  [-0.58247348  0.74746786  0.55169891  0.94777972 -0.65363146\n",
      "   -0.10572535]]]\n"
     ]
    }
   ],
   "source": [
    "a = np.random.randn(4,4)\n",
    "b = np.random.randn(4,5,6)\n",
    "print(a)\n",
    "print(b)"
   ]
  },
  {
   "cell_type": "code",
   "execution_count": null,
   "metadata": {},
   "outputs": [],
   "source": []
  }
 ],
 "metadata": {
  "kernelspec": {
   "display_name": "Python 3",
   "language": "python",
   "name": "python3"
  },
  "language_info": {
   "codemirror_mode": {
    "name": "ipython",
    "version": 3
   },
   "file_extension": ".py",
   "mimetype": "text/x-python",
   "name": "python",
   "nbconvert_exporter": "python",
   "pygments_lexer": "ipython3",
   "version": "3.7.9"
  }
 },
 "nbformat": 4,
 "nbformat_minor": 4
}
