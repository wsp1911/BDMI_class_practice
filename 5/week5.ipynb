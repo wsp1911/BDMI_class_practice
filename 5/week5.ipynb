{
 "cells": [
  {
   "cell_type": "code",
   "execution_count": 9,
   "metadata": {},
   "outputs": [],
   "source": [
    "class hash_list:\n",
    "    def __init__(self,m,l,func):\n",
    "        self.func = func\n",
    "        self.bucket = [[] for _ in range(m)]\n",
    "        for item in l:\n",
    "            self.insert(item)\n",
    "    def insert(self,x):\n",
    "        self.bucket[self.func(x)].append(x)\n",
    "    def delete(self,x):\n",
    "        if x in self.bucket[self.func(x)]:\n",
    "            self.bucket[self.func(x)].remove(x)\n",
    "    def display(self):\n",
    "        for l in self.bucket:\n",
    "            print(l)\n",
    "        print('\\n')"
   ]
  },
  {
   "cell_type": "code",
   "execution_count": 11,
   "metadata": {},
   "outputs": [
    {
     "name": "stdout",
     "output_type": "stream",
     "text": [
      "[5]\n",
      "[3, 8]\n",
      "[1]\n",
      "[4]\n",
      "[7, 2]\n",
      "\n",
      "\n",
      "[5]\n",
      "[3, 8]\n",
      "[1]\n",
      "[4, 9]\n",
      "[7, 2]\n",
      "\n",
      "\n",
      "[5]\n",
      "[3, 8]\n",
      "[1]\n",
      "[9]\n",
      "[7, 2]\n",
      "\n",
      "\n"
     ]
    }
   ],
   "source": [
    "hl = hash_list(m=5,l=[7,5,3,4,1,2,8],func=lambda x:x*7%5)\n",
    "hl.display()\n",
    "hl.insert(9)\n",
    "hl.display()\n",
    "hl.delete(4)\n",
    "hl.display()"
   ]
  },
  {
   "cell_type": "code",
   "execution_count": 61,
   "metadata": {},
   "outputs": [
    {
     "data": {
      "text/plain": [
       "<sqlite3.Cursor at 0x22169a1b810>"
      ]
     },
     "execution_count": 61,
     "metadata": {},
     "output_type": "execute_result"
    }
   ],
   "source": [
    "import sqlite3 as sql\n",
    "db = sql.connect('data2.db')\n",
    "cursor = db.cursor()\n",
    "cursor.execute(\"\"\"\n",
    "CREATE TABLE IF NOT EXISTS students(\n",
    "id integer PRIMARY KEY,\n",
    "name text NOT NULL,\n",
    "gender text NOT NULL,\n",
    "age integer NOT NULL);\"\"\")\n",
    "cursor.execute(\"\"\"\n",
    "CREATE TABLE IF NOT EXISTS class(\n",
    "cid integer PRIMARY KEY,\n",
    "cname text NOT NULL,\n",
    "tid NOT NULL);\"\"\")\n",
    "cursor.execute(\"\"\"\n",
    "CREATE TABLE IF NOT EXISTS enrolled(\n",
    "id integer NOT NULL,\n",
    "cid integer NOT NULL,\n",
    "score integer,\n",
    "PRIMARY KEY (id,cid));\"\"\")"
   ]
  },
  {
   "cell_type": "code",
   "execution_count": 62,
   "metadata": {},
   "outputs": [
    {
     "data": {
      "text/plain": [
       "<sqlite3.Cursor at 0x22169a1b810>"
      ]
     },
     "execution_count": 62,
     "metadata": {},
     "output_type": "execute_result"
    }
   ],
   "source": [
    "cursor.execute(\"\"\"\n",
    "INSERT INTO students(id, name, gender, age)\n",
    "VALUES (2017010807,'wsp','male',22)\n",
    "\"\"\")\n",
    "cursor.execute(\"\"\"\n",
    "INSERT INTO students(id, name, gender, age)\n",
    "VALUES (2017010870,'ztj','male',22)\n",
    "\"\"\")\n",
    "cursor.execute(\"\"\"\n",
    "INSERT INTO students(id, name, gender, age)\n",
    "VALUES (2017010802,'shx','male',22)\n",
    "\"\"\")"
   ]
  },
  {
   "cell_type": "code",
   "execution_count": 63,
   "metadata": {},
   "outputs": [
    {
     "data": {
      "text/plain": [
       "<sqlite3.Cursor at 0x22169a1b810>"
      ]
     },
     "execution_count": 63,
     "metadata": {},
     "output_type": "execute_result"
    }
   ],
   "source": [
    "cursor.execute(\"\"\"\n",
    "INSERT INTO class(cid, cname, tid)\n",
    "VALUES (0, '电电',0)\"\"\")\n",
    "cursor.execute(\"\"\"\n",
    "INSERT INTO class(cid, cname, tid)\n",
    "VALUES (1, '数算',1)\"\"\")\n",
    "cursor.execute(\"\"\"\n",
    "INSERT INTO class(cid, cname, tid)\n",
    "VALUES (2, '微积分',2)\"\"\")"
   ]
  },
  {
   "cell_type": "code",
   "execution_count": 64,
   "metadata": {},
   "outputs": [
    {
     "data": {
      "text/plain": [
       "<sqlite3.Cursor at 0x22169a1b810>"
      ]
     },
     "execution_count": 64,
     "metadata": {},
     "output_type": "execute_result"
    }
   ],
   "source": [
    "cursor.execute(\"\"\"\n",
    "INSERT INTO enrolled(id,cid,score)\n",
    "VALUES (2017010870,0,100)\"\"\")\n",
    "cursor.execute(\"\"\"\n",
    "INSERT INTO enrolled(id,cid,score)\n",
    "VALUES (2017010870,1,100)\"\"\")\n",
    "cursor.execute(\"\"\"\n",
    "INSERT INTO enrolled(id,cid,score)\n",
    "VALUES (2017010807,0,61)\"\"\")"
   ]
  },
  {
   "cell_type": "code",
   "execution_count": 67,
   "metadata": {},
   "outputs": [
    {
     "name": "stdout",
     "output_type": "stream",
     "text": [
      "[('ztj', '电电', 100), ('ztj', '数算', 100)]\n"
     ]
    }
   ],
   "source": [
    "# cursor.execute(\"\"\"\n",
    "# SELECT *\n",
    "# FROM students\"\"\")\n",
    "# print(cursor.fetchall())\n",
    "# cursor.execute(\"\"\"\n",
    "# SELECT *\n",
    "# FROM class\"\"\")\n",
    "# print(cursor.fetchall())\n",
    "# cursor.execute(\"\"\"\n",
    "# SELECT *\n",
    "# FROM enrolled\"\"\")\n",
    "# print(cursor.fetchall())\n",
    "\n",
    "cursor.execute(\"\"\"\n",
    "SELECT students.name,class.cname,enrolled.score\n",
    "FROM students,class,enrolled\n",
    "WHERE students.id=enrolled.id AND enrolled.cid=class.cid AND students.id=2017010870\"\"\")\n",
    "print(cursor.fetchall())"
   ]
  },
  {
   "cell_type": "code",
   "execution_count": 57,
   "metadata": {},
   "outputs": [],
   "source": [
    "db.close()"
   ]
  },
  {
   "cell_type": "code",
   "execution_count": 60,
   "metadata": {},
   "outputs": [
    {
     "name": "stdout",
     "output_type": "stream",
     "text": [
      "[]\n"
     ]
    }
   ],
   "source": []
  },
  {
   "cell_type": "code",
   "execution_count": null,
   "metadata": {},
   "outputs": [],
   "source": []
  }
 ],
 "metadata": {
  "kernelspec": {
   "display_name": "Python 3",
   "language": "python",
   "name": "python3"
  },
  "language_info": {
   "codemirror_mode": {
    "name": "ipython",
    "version": 3
   },
   "file_extension": ".py",
   "mimetype": "text/x-python",
   "name": "python",
   "nbconvert_exporter": "python",
   "pygments_lexer": "ipython3",
   "version": "3.7.9"
  }
 },
 "nbformat": 4,
 "nbformat_minor": 4
}
