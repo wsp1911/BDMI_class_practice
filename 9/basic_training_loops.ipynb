{
 "cells": [
  {
   "cell_type": "markdown",
   "metadata": {
    "id": "5rmpybwysXGV"
   },
   "source": [
    "##### Copyright 2020 The TensorFlow Authors."
   ]
  },
  {
   "cell_type": "code",
   "execution_count": 1,
   "metadata": {
    "cellView": "form",
    "execution": {
     "iopub.execute_input": "2020-11-10T02:22:38.168611Z",
     "iopub.status.busy": "2020-11-10T02:22:38.167919Z",
     "iopub.status.idle": "2020-11-10T02:22:38.170090Z",
     "shell.execute_reply": "2020-11-10T02:22:38.170552Z"
    },
    "id": "m8y3rGtQsYP2"
   },
   "outputs": [],
   "source": [
    "#@title Licensed under the Apache License, Version 2.0 (the \"License\");\n",
    "# you may not use this file except in compliance with the License.\n",
    "# You may obtain a copy of the License at\n",
    "#\n",
    "# https://www.apache.org/licenses/LICENSE-2.0\n",
    "#\n",
    "# Unless required by applicable law or agreed to in writing, software\n",
    "# distributed under the License is distributed on an \"AS IS\" BASIS,\n",
    "# WITHOUT WARRANTIES OR CONDITIONS OF ANY KIND, either express or implied.\n",
    "# See the License for the specific language governing permissions and\n",
    "# limitations under the License."
   ]
  },
  {
   "cell_type": "markdown",
   "metadata": {
    "id": "hrXv0rU9sIma"
   },
   "source": [
    "# Basic training loops"
   ]
  },
  {
   "cell_type": "markdown",
   "metadata": {
    "id": "7S0BwJ_8sLu7"
   },
   "source": [
    "<table class=\"tfo-notebook-buttons\" align=\"left\">\n",
    "  <td>\n",
    "    <a target=\"_blank\" href=\"https://www.tensorflow.org/guide/basic_training_loops\"><img src=\"https://www.tensorflow.org/images/tf_logo_32px.png\" />View on TensorFlow.org</a>\n",
    "  </td>\n",
    "  <td>\n",
    "    <a target=\"_blank\" href=\"https://colab.research.google.com/github/tensorflow/docs/blob/master/site/en/guide/basic_training_loops.ipynb\"><img src=\"https://www.tensorflow.org/images/colab_logo_32px.png\" />Run in Google Colab</a>\n",
    "  </td>\n",
    "  <td>\n",
    "    <a target=\"_blank\" href=\"https://github.com/tensorflow/docs/blob/master/site/en/guide/basic_training_loops.ipynb\"><img src=\"https://www.tensorflow.org/images/GitHub-Mark-32px.png\" />View source on GitHub</a>\n",
    "  </td>\n",
    "  <td>\n",
    "    <a href=\"https://storage.googleapis.com/tensorflow_docs/docs/site/en/guide/basic_training_loops.ipynb\"><img src=\"https://www.tensorflow.org/images/download_logo_32px.png\" />Download notebook</a>\n",
    "  </td>\n",
    "</table>"
   ]
  },
  {
   "cell_type": "markdown",
   "metadata": {
    "id": "k2o3TTG4TFpt"
   },
   "source": [
    "In the previous guides, you have learned about [tensors](./tensor.ipynb), [variables](./variable.ipynb), [gradient tape](autodiff.ipynb), and [modules](./intro_to_modules.ipynb).  In this guide, you will fit these all together to train models.\n",
    "\n",
    "TensorFlow also includes the [tf.Keras API](keras/overview.ipynb), a high-level neural network API that provides useful abstractions to reduce boilerplate.  However, in this guide, you will use basic classes."
   ]
  },
  {
   "cell_type": "markdown",
   "metadata": {
    "id": "3LXMVuV0VhDr"
   },
   "source": [
    "## Setup"
   ]
  },
  {
   "cell_type": "code",
   "execution_count": 2,
   "metadata": {
    "execution": {
     "iopub.execute_input": "2020-11-10T02:22:38.175142Z",
     "iopub.status.busy": "2020-11-10T02:22:38.174479Z",
     "iopub.status.idle": "2020-11-10T02:22:44.860746Z",
     "shell.execute_reply": "2020-11-10T02:22:44.860113Z"
    },
    "id": "NiolgWMPgpwI"
   },
   "outputs": [],
   "source": [
    "import tensorflow as tf"
   ]
  },
  {
   "cell_type": "markdown",
   "metadata": {
    "id": "iKD__8kFCKNt"
   },
   "source": [
    "## Solving machine learning problems\n",
    "\n",
    "Solving a machine learning problem usually consists of the following steps:\n",
    "\n",
    " - Obtain training data.\n",
    " - Define the model.\n",
    " - Define a loss function.\n",
    " - Run through the training data, calculating loss from the ideal value\n",
    " - Calculate gradients for that loss and use an *optimizer* to adjust the variables to fit the data.\n",
    " - Evaluate your results.\n",
    "\n",
    "For illustration purposes, in this guide you'll develop a simple linear model, $f(x) = x * W + b$, which has two variables: $W$ (weights) and $b$ (bias).\n",
    "\n",
    "This is the most basic of machine learning problems:  Given $x$ and $y$, try to find the slope and offset of a line via  [simple linear regression](https://en.wikipedia.org/wiki/Linear_regression#Simple_and_multiple_linear_regression)."
   ]
  },
  {
   "cell_type": "markdown",
   "metadata": {
    "id": "qutT_fkl_CBc"
   },
   "source": [
    "## Data\n",
    "\n",
    "Supervised learning uses *inputs* (usually denoted as *x*) and *outputs* (denoted *y*, often called *labels*).  The goal is to learn from paired inputs and outputs so that you can predict the value of an output from an input.\n",
    "\n",
    "Each input of your data, in TensorFlow, is almost always represented by a tensor, and is often a vector. In supervised training, the output (or value you'd like to predict) is also a tensor.\n",
    "\n",
    "Here is some data synthesized by adding Gaussian (Normal) noise to points along a line."
   ]
  },
  {
   "cell_type": "code",
   "execution_count": 3,
   "metadata": {
    "execution": {
     "iopub.execute_input": "2020-11-10T02:22:53.101053Z",
     "iopub.status.busy": "2020-11-10T02:22:53.100227Z",
     "iopub.status.idle": "2020-11-10T02:22:53.404530Z",
     "shell.execute_reply": "2020-11-10T02:22:53.404964Z"
    },
    "id": "NzivK2ATByOz"
   },
   "outputs": [],
   "source": [
    "# The actual line\n",
    "TRUE_W = 3.0\n",
    "TRUE_B = 2.0\n",
    "\n",
    "NUM_EXAMPLES = 1000\n",
    "\n",
    "# A vector of random x values\n",
    "x = tf.random.normal(shape=[NUM_EXAMPLES])\n",
    "\n",
    "# Generate some noise\n",
    "noise = tf.random.normal(shape=[NUM_EXAMPLES])\n",
    "\n",
    "# Calculate y\n",
    "y = x * TRUE_W + TRUE_B + noise"
   ]
  },
  {
   "cell_type": "code",
   "execution_count": 4,
   "metadata": {
    "execution": {
     "iopub.execute_input": "2020-11-10T02:22:53.410279Z",
     "iopub.status.busy": "2020-11-10T02:22:53.409458Z",
     "iopub.status.idle": "2020-11-10T02:22:54.197122Z",
     "shell.execute_reply": "2020-11-10T02:22:54.197585Z"
    },
    "id": "IlFd_HVBFGIF"
   },
   "outputs": [
    {
     "data": {
      "image/png": "[encoded data removed]",
      "text/plain": [
       "<Figure size 432x288 with 1 Axes>"
      ]
     },
     "metadata": {
      "needs_background": "light"
     },
     "output_type": "display_data"
    }
   ],
   "source": [
    "# Plot all the data\n",
    "import matplotlib.pyplot as plt\n",
    "\n",
    "plt.scatter(x, y, c=\"b\")\n",
    "plt.show()"
   ]
  },
  {
   "cell_type": "markdown",
   "metadata": {
    "id": "UH95XUzhL99d"
   },
   "source": [
    "Tensors are usually gathered together in *batches*, or groups of inputs and outputs stacked together.  Batching can confer some training benefits and works well with accelerators and vectorized computation.  Given how small this dataset is, you can treat the entire dataset as a single batch."
   ]
  },
  {
   "cell_type": "markdown",
   "metadata": {
    "id": "gFzH64Jn9PIm"
   },
   "source": [
    "## Define the model\n",
    "\n",
    "Use `tf.Variable` to represent all weights in a model.  A `tf.Variable` stores a value and provides this in tensor form as needed.  See the [variable guide](./variable.ipynb) for more details.\n",
    "\n",
    "Use `tf.Module` to encapsulate the variables and the computation.  You could use any Python object, but this way it can be easily saved.\n",
    "\n",
    "Here, you define both *w* and *b* as variables."
   ]
  },
  {
   "cell_type": "code",
   "execution_count": 5,
   "metadata": {
    "execution": {
     "iopub.execute_input": "2020-11-10T02:22:54.204585Z",
     "iopub.status.busy": "2020-11-10T02:22:54.203854Z",
     "iopub.status.idle": "2020-11-10T02:22:54.217551Z",
     "shell.execute_reply": "2020-11-10T02:22:54.217060Z"
    },
    "id": "_WRu7Pze7wk8"
   },
   "outputs": [
    {
     "name": "stdout",
     "output_type": "stream",
     "text": [
      "Variables: (<tf.Variable 'Variable:0' shape=() dtype=float32, numpy=0.0>, <tf.Variable 'Variable:0' shape=() dtype=float32, numpy=5.0>)\n"
     ]
    }
   ],
   "source": [
    "class MyModel(tf.Module):\n",
    "  def __init__(self, **kwargs):\n",
    "    super().__init__(**kwargs)\n",
    "    # Initialize the weights to `5.0` and the bias to `0.0`\n",
    "    # In practice, these should be randomly initialized\n",
    "    self.w = tf.Variable(5.0)\n",
    "    self.b = tf.Variable(0.0)\n",
    "\n",
    "  def __call__(self, x):\n",
    "    return self.w * x + self.b\n",
    "\n",
    "model = MyModel()\n",
    "\n",
    "# List the variables tf.modules's built-in variable aggregation.\n",
    "print(\"Variables:\", model.variables)\n",
    "\n",
    "# Verify the model works\n",
    "assert model(3.0).numpy() == 15.0"
   ]
  },
  {
   "cell_type": "markdown",
   "metadata": {
    "id": "rdpN_3ssG9D5"
   },
   "source": [
    "The initial variables are set here in a fixed way, but Keras comes with any of a number of [initalizers](https://www.tensorflow.org/api_docs/python/tf/keras/initializers) you could use, with or without the rest of Keras."
   ]
  },
  {
   "cell_type": "markdown",
   "metadata": {
    "id": "xa6j_yXa-j79"
   },
   "source": [
    "### Define a loss function\n",
    "\n",
    "A loss function measures how well the output of a model for a given input matches the target output. The goal is to minimize this difference during training. Define the standard L2 loss, also known as the \"mean squared\" error:"
   ]
  },
  {
   "cell_type": "code",
   "execution_count": 6,
   "metadata": {
    "execution": {
     "iopub.execute_input": "2020-11-10T02:22:54.222264Z",
     "iopub.status.busy": "2020-11-10T02:22:54.221458Z",
     "iopub.status.idle": "2020-11-10T02:22:54.224130Z",
     "shell.execute_reply": "2020-11-10T02:22:54.223633Z"
    },
    "id": "Y0ysUFGY924U"
   },
   "outputs": [],
   "source": [
    "# This computes a single loss value for an entire batch\n",
    "def loss(target_y, predicted_y):\n",
    "  return tf.reduce_mean(tf.square(target_y - predicted_y))"
   ]
  },
  {
   "cell_type": "markdown",
   "metadata": {
    "id": "-50nq-wPBsAW"
   },
   "source": [
    "Before training the model, you can visualize the loss value by plotting the model's predictions in red and the training data in blue:"
   ]
  },
  {
   "cell_type": "code",
   "execution_count": 7,
   "metadata": {
    "execution": {
     "iopub.execute_input": "2020-11-10T02:22:54.246242Z",
     "iopub.status.busy": "2020-11-10T02:22:54.245391Z",
     "iopub.status.idle": "2020-11-10T02:22:54.360235Z",
     "shell.execute_reply": "2020-11-10T02:22:54.360677Z"
    },
    "id": "_eb83LtrB4nt"
   },
   "outputs": [
    {
     "data": {
      "image/png": "[encoded data removed]",
      "text/plain": [
       "<Figure size 432x288 with 1 Axes>"
      ]
     },
     "metadata": {
      "needs_background": "light"
     },
     "output_type": "display_data"
    },
    {
     "name": "stdout",
     "output_type": "stream",
     "text": [
      "Current loss: 8.580944\n"
     ]
    }
   ],
   "source": [
    "plt.scatter(x, y, c=\"b\")\n",
    "plt.scatter(x, model(x), c=\"r\")\n",
    "plt.show()\n",
    "\n",
    "print(\"Current loss: %1.6f\" % loss(model(x), y).numpy())"
   ]
  },
  {
   "cell_type": "markdown",
   "metadata": {
    "id": "sSDP-yeq_4jE"
   },
   "source": [
    "### Define a training loop\n",
    "\n",
    "The training loop consists of repeatedly doing three tasks in order:\n",
    "\n",
    "* Sending a batch of inputs through the model to generate outputs\n",
    "* Calculating the loss by comparing the outputs to the output (or label)\n",
    "* Using gradient tape to find the gradients\n",
    "* Optimizing the variables with those gradients\n",
    "\n",
    "For this example, you can train the model using [gradient descent](https://en.wikipedia.org/wiki/Gradient_descent).\n",
    "\n",
    "There are many variants of the gradient descent scheme that are captured in `tf.keras.optimizers`. But in the spirit of building from first principles, here you will implement the basic math yourself with the help of `tf.GradientTape` for automatic differentiation and `tf.assign_sub` for decrementing a value (which combines `tf.assign` and `tf.sub`):"
   ]
  },
  {
   "cell_type": "code",
   "execution_count": 8,
   "metadata": {
    "execution": {
     "iopub.execute_input": "2020-11-10T02:22:54.366898Z",
     "iopub.status.busy": "2020-11-10T02:22:54.366096Z",
     "iopub.status.idle": "2020-11-10T02:22:54.368338Z",
     "shell.execute_reply": "2020-11-10T02:22:54.368779Z"
    },
    "id": "MBIACgdnA55X"
   },
   "outputs": [],
   "source": [
    "# Given a callable model, inputs, outputs, and a learning rate...\n",
    "def train(model, x, y, learning_rate):\n",
    "\n",
    "  with tf.GradientTape() as t:\n",
    "    # Trainable variables are automatically tracked by GradientTape\n",
    "    current_loss = loss(y, model(x))\n",
    "\n",
    "  # Use GradientTape to calculate the gradients with respect to W and b\n",
    "  dw, db = t.gradient(current_loss, [model.w, model.b])\n",
    "\n",
    "  # Subtract the gradient scaled by the learning rate\n",
    "  model.w.assign_sub(learning_rate * dw)\n",
    "  model.b.assign_sub(learning_rate * db)"
   ]
  },
  {
   "cell_type": "markdown",
   "metadata": {
    "id": "RwWPaJryD2aN"
   },
   "source": [
    "For a look at training, you can send the same batch of *x* an *y* through the training loop, and see how `W` and `b` evolve."
   ]
  },
  {
   "cell_type": "code",
   "execution_count": 9,
   "metadata": {
    "execution": {
     "iopub.execute_input": "2020-11-10T02:22:54.375376Z",
     "iopub.status.busy": "2020-11-10T02:22:54.374658Z",
     "iopub.status.idle": "2020-11-10T02:22:54.378787Z",
     "shell.execute_reply": "2020-11-10T02:22:54.379192Z"
    },
    "id": "XdfkR223D9dW"
   },
   "outputs": [],
   "source": [
    "model = MyModel()\n",
    "\n",
    "# Collect the history of W-values and b-values to plot later\n",
    "Ws, bs = [], []\n",
    "epochs = range(10)\n",
    "\n",
    "# Define a training loop\n",
    "def training_loop(model, x, y):\n",
    "\n",
    "  for epoch in epochs:\n",
    "    # Update the model with the single giant batch\n",
    "    train(model, x, y, learning_rate=0.1)\n",
    "\n",
    "    # Track this before I update\n",
    "    Ws.append(model.w.numpy())\n",
    "    bs.append(model.b.numpy())\n",
    "    current_loss = loss(y, model(x))\n",
    "\n",
    "    print(\"Epoch %2d: W=%1.2f b=%1.2f, loss=%2.5f\" %\n",
    "          (epoch, Ws[-1], bs[-1], current_loss))\n"
   ]
  },
  {
   "cell_type": "code",
   "execution_count": 10,
   "metadata": {
    "execution": {
     "iopub.execute_input": "2020-11-10T02:22:54.384769Z",
     "iopub.status.busy": "2020-11-10T02:22:54.384028Z",
     "iopub.status.idle": "2020-11-10T02:22:54.563701Z",
     "shell.execute_reply": "2020-11-10T02:22:54.564156Z"
    },
    "id": "iRuNUghs1lHY"
   },
   "outputs": [
    {
     "name": "stdout",
     "output_type": "stream",
     "text": [
      "Starting: W=5.00 b=0.00, loss=8.58094\n",
      "Epoch  0: W=4.64 b=0.40, loss=5.98335\n",
      "Epoch  1: W=4.35 b=0.72, loss=4.28250\n",
      "Epoch  2: W=4.11 b=0.98, loss=3.16804\n"
     ]
    },
    {
     "name": "stdout",
     "output_type": "stream",
     "text": [
      "Epoch  3: W=3.92 b=1.18, loss=2.43727\n",
      "Epoch  4: W=3.76 b=1.35, loss=1.95776\n",
      "Epoch  5: W=3.62 b=1.48, loss=1.64289\n",
      "Epoch  6: W=3.51 b=1.58, loss=1.43599\n",
      "Epoch  7: W=3.42 b=1.67, loss=1.29993\n",
      "Epoch  8: W=3.35 b=1.73, loss=1.21039\n",
      "Epoch  9: W=3.29 b=1.79, loss=1.15143\n"
     ]
    },
    {
     "data": {
      "image/png": "[encoded data removed]",
      "text/plain": [
       "<Figure size 432x288 with 1 Axes>"
      ]
     },
     "metadata": {
      "needs_background": "light"
     },
     "output_type": "display_data"
    }
   ],
   "source": [
    "print(\"Starting: W=%1.2f b=%1.2f, loss=%2.5f\" %\n",
    "      (model.w, model.b, loss(y, model(x))))\n",
    "\n",
    "# Do the training\n",
    "training_loop(model, x, y)\n",
    "\n",
    "# Plot it\n",
    "plt.plot(epochs, Ws, \"r\",\n",
    "         epochs, bs, \"b\")\n",
    "\n",
    "plt.plot([TRUE_W] * len(epochs), \"r--\",\n",
    "         [TRUE_B] * len(epochs), \"b--\")\n",
    "\n",
    "plt.legend([\"W\", \"b\", \"True W\", \"True b\"])\n",
    "plt.show()\n"
   ]
  },
  {
   "cell_type": "code",
   "execution_count": 11,
   "metadata": {
    "execution": {
     "iopub.execute_input": "2020-11-10T02:22:54.585605Z",
     "iopub.status.busy": "2020-11-10T02:22:54.584494Z",
     "iopub.status.idle": "2020-11-10T02:22:54.708673Z",
     "shell.execute_reply": "2020-11-10T02:22:54.708169Z"
    },
    "id": "tpTEjWWex568"
   },
   "outputs": [
    {
     "data": {
      "image/png": "[encoded data removed]",
      "text/plain": [
       "<Figure size 432x288 with 1 Axes>"
      ]
     },
     "metadata": {
      "needs_background": "light"
     },
     "output_type": "display_data"
    },
    {
     "name": "stdout",
     "output_type": "stream",
     "text": [
      "Current loss: 1.151427\n"
     ]
    }
   ],
   "source": [
    "# Visualize how the trained model performs\n",
    "plt.scatter(x, y, c=\"b\")\n",
    "plt.scatter(x, model(x), c=\"r\")\n",
    "plt.show()\n",
    "\n",
    "print(\"Current loss: %1.6f\" % loss(model(x), y).numpy())"
   ]
  },
  {
   "cell_type": "markdown",
   "metadata": {
    "id": "DODMMmfLIiOC"
   },
   "source": [
    "## The same solution, but with Keras\n",
    "\n",
    "It's useful to contrast the code above with the equivalent in Keras.\n",
    "\n",
    "Defining the model looks exactly the same if you subclass `tf.keras.Model`.  Remember that Keras models inherit ultimately from module."
   ]
  },
  {
   "cell_type": "code",
   "execution_count": 12,
   "metadata": {
    "execution": {
     "iopub.execute_input": "2020-11-10T02:22:54.715184Z",
     "iopub.status.busy": "2020-11-10T02:22:54.714502Z",
     "iopub.status.idle": "2020-11-10T02:22:54.760865Z",
     "shell.execute_reply": "2020-11-10T02:22:54.761320Z"
    },
    "id": "Z86hCI0x1YX3"
   },
   "outputs": [
    {
     "name": "stdout",
     "output_type": "stream",
     "text": [
      "Epoch  0: W=4.64 b=0.40, loss=5.98335\n",
      "Epoch  1: W=4.35 b=0.72, loss=4.28250\n",
      "Epoch  2: W=4.11 b=0.98, loss=3.16804\n",
      "Epoch  3: W=3.92 b=1.18, loss=2.43727\n",
      "Epoch  4: W=3.76 b=1.35, loss=1.95776\n",
      "Epoch  5: W=3.62 b=1.48, loss=1.64289\n",
      "Epoch  6: W=3.51 b=1.58, loss=1.43599\n",
      "Epoch  7: W=3.42 b=1.67, loss=1.29993\n",
      "Epoch  8: W=3.35 b=1.73, loss=1.21039\n",
      "Epoch  9: W=3.29 b=1.79, loss=1.15143\n"
     ]
    }
   ],
   "source": [
    "class MyModelKeras(tf.keras.Model):\n",
    "  def __init__(self, **kwargs):\n",
    "    super().__init__(**kwargs)\n",
    "    # Initialize the weights to `5.0` and the bias to `0.0`\n",
    "    # In practice, these should be randomly initialized\n",
    "    self.w = tf.Variable(5.0)\n",
    "    self.b = tf.Variable(0.0)\n",
    "\n",
    "  def __call__(self, x, **kwargs):\n",
    "    return self.w * x + self.b\n",
    "\n",
    "keras_model = MyModelKeras()\n",
    "\n",
    "# Reuse the training loop with a Keras model\n",
    "training_loop(keras_model, x, y)\n",
    "\n",
    "# You can also save a checkpoint using Keras's built-in support\n",
    "keras_model.save_weights(\"my_checkpoint\")"
   ]
  },
  {
   "cell_type": "markdown",
   "metadata": {
    "id": "6kw5P4jt2Az8"
   },
   "source": [
    "Rather than write new training loops each time you create a model, you can use the built-in features of Keras as a shortcut.  This can be useful when you do not want to write or debug Python training loops.\n",
    "\n",
    "If you do, you will need to use `model.compile()` to set the parameters, and `model.fit()` to train.  It can be less code to use Keras implementations of L2 loss and gradient descent, again as a shortcut.  Keras losses and optimizers can be used outside of these convenience functions, too, and the previous example could have used them."
   ]
  },
  {
   "cell_type": "code",
   "execution_count": 13,
   "metadata": {
    "execution": {
     "iopub.execute_input": "2020-11-10T02:22:54.767995Z",
     "iopub.status.busy": "2020-11-10T02:22:54.767233Z",
     "iopub.status.idle": "2020-11-10T02:22:54.787690Z",
     "shell.execute_reply": "2020-11-10T02:22:54.787116Z"
    },
    "id": "-nbLLfPE2pEl"
   },
   "outputs": [],
   "source": [
    "keras_model = MyModelKeras()\n",
    "\n",
    "# compile sets the training paramaeters\n",
    "keras_model.compile(\n",
    "    # By default, fit() uses tf.function().  You can\n",
    "    # turn that off for debugging, but it is on now.\n",
    "    run_eagerly=False,\n",
    "\n",
    "    # Using a built-in optimizer, configuring as an object\n",
    "    optimizer=tf.keras.optimizers.SGD(learning_rate=0.1),\n",
    "\n",
    "    # Keras comes with built-in MSE error\n",
    "    # However, you could use the loss function\n",
    "    # defined above\n",
    "    loss=tf.keras.losses.mean_squared_error,\n",
    ")"
   ]
  },
  {
   "cell_type": "markdown",
   "metadata": {
    "id": "lrlHODiZccu2"
   },
   "source": [
    "Keras `fit` expects batched data or a complete dataset as a NumPy array.  NumPy arrays are chopped into batches and default to a batch size of 32.\n",
    "\n",
    "In this case, to match the behavior of the hand-written loop, you should pass `x` in as a single batch of size 1000."
   ]
  },
  {
   "cell_type": "code",
   "execution_count": 14,
   "metadata": {
    "execution": {
     "iopub.execute_input": "2020-11-10T02:22:54.792576Z",
     "iopub.status.busy": "2020-11-10T02:22:54.791851Z",
     "iopub.status.idle": "2020-11-10T02:22:55.095608Z",
     "shell.execute_reply": "2020-11-10T02:22:55.096230Z"
    },
    "id": "zfAYqtu136PO"
   },
   "outputs": [
    {
     "name": "stdout",
     "output_type": "stream",
     "text": [
      "1000\n",
      "Epoch 1/10\n"
     ]
    },
    {
     "name": "stdout",
     "output_type": "stream",
     "text": [
      "\r",
      "1/1 [==============================] - ETA: 0s - loss: 8.5809"
     ]
    },
    {
     "name": "stdout",
     "output_type": "stream",
     "text": [
      "\b\b\b\b\b\b\b\b\b\b\b\b\b\b\b\b\b\b\b\b\b\b\b\b\b\b\b\b\b\b\b\b\b\b\b\b\b\b\b\b\b\b\b\b\b\b\b\b\b\b\b\b\b\b\b\b\b\b\b\b\b\r",
      "1/1 [==============================] - 0s 1ms/step - loss: 8.5809\n"
     ]
    },
    {
     "name": "stdout",
     "output_type": "stream",
     "text": [
      "Epoch 2/10\n",
      "\r",
      "1/1 [==============================] - ETA: 0s - loss: 5.9834"
     ]
    },
    {
     "name": "stdout",
     "output_type": "stream",
     "text": [
      "\b\b\b\b\b\b\b\b\b\b\b\b\b\b\b\b\b\b\b\b\b\b\b\b\b\b\b\b\b\b\b\b\b\b\b\b\b\b\b\b\b\b\b\b\b\b\b\b\b\b\b\b\b\b\b\b\b\b\b\b\b\r",
      "1/1 [==============================] - 0s 941us/step - loss: 5.9834\n"
     ]
    },
    {
     "name": "stdout",
     "output_type": "stream",
     "text": [
      "Epoch 3/10\n",
      "\r",
      "1/1 [==============================] - ETA: 0s - loss: 4.2825"
     ]
    },
    {
     "name": "stdout",
     "output_type": "stream",
     "text": [
      "\b\b\b\b\b\b\b\b\b\b\b\b\b\b\b\b\b\b\b\b\b\b\b\b\b\b\b\b\b\b\b\b\b\b\b\b\b\b\b\b\b\b\b\b\b\b\b\b\b\b\b\b\b\b\b\b\b\b\b\b\b\r",
      "1/1 [==============================] - 0s 874us/step - loss: 4.2825\n"
     ]
    },
    {
     "name": "stdout",
     "output_type": "stream",
     "text": [
      "Epoch 4/10\n",
      "\r",
      "1/1 [==============================] - ETA: 0s - loss: 3.1680"
     ]
    },
    {
     "name": "stdout",
     "output_type": "stream",
     "text": [
      "\b\b\b\b\b\b\b\b\b\b\b\b\b\b\b\b\b\b\b\b\b\b\b\b\b\b\b\b\b\b\b\b\b\b\b\b\b\b\b\b\b\b\b\b\b\b\b\b\b\b\b\b\b\b\b\b\b\b\b\b\b\r",
      "1/1 [==============================] - 0s 944us/step - loss: 3.1680\n"
     ]
    },
    {
     "name": "stdout",
     "output_type": "stream",
     "text": [
      "Epoch 5/10\n",
      "\r",
      "1/1 [==============================] - ETA: 0s - loss: 2.4373"
     ]
    },
    {
     "name": "stdout",
     "output_type": "stream",
     "text": [
      "\b\b\b\b\b\b\b\b\b\b\b\b\b\b\b\b\b\b\b\b\b\b\b\b\b\b\b\b\b\b\b\b\b\b\b\b\b\b\b\b\b\b\b\b\b\b\b\b\b\b\b\b\b\b\b\b\b\b\b\b\b\r",
      "1/1 [==============================] - 0s 1ms/step - loss: 2.4373\n"
     ]
    },
    {
     "name": "stdout",
     "output_type": "stream",
     "text": [
      "Epoch 6/10\n",
      "\r",
      "1/1 [==============================] - ETA: 0s - loss: 1.9578"
     ]
    },
    {
     "name": "stdout",
     "output_type": "stream",
     "text": [
      "\b\b\b\b\b\b\b\b\b\b\b\b\b\b\b\b\b\b\b\b\b\b\b\b\b\b\b\b\b\b\b\b\b\b\b\b\b\b\b\b\b\b\b\b\b\b\b\b\b\b\b\b\b\b\b\b\b\b\b\b\b\r",
      "1/1 [==============================] - 0s 1ms/step - loss: 1.9578\n"
     ]
    },
    {
     "name": "stdout",
     "output_type": "stream",
     "text": [
      "Epoch 7/10\n",
      "\r",
      "1/1 [==============================] - ETA: 0s - loss: 1.6429"
     ]
    },
    {
     "name": "stdout",
     "output_type": "stream",
     "text": [
      "\b\b\b\b\b\b\b\b\b\b\b\b\b\b\b\b\b\b\b\b\b\b\b\b\b\b\b\b\b\b\b\b\b\b\b\b\b\b\b\b\b\b\b\b\b\b\b\b\b\b\b\b\b\b\b\b\b\b\b\b\b\r",
      "1/1 [==============================] - 0s 873us/step - loss: 1.6429\n"
     ]
    },
    {
     "name": "stdout",
     "output_type": "stream",
     "text": [
      "Epoch 8/10\n",
      "\r",
      "1/1 [==============================] - ETA: 0s - loss: 1.4360"
     ]
    },
    {
     "name": "stdout",
     "output_type": "stream",
     "text": [
      "\b\b\b\b\b\b\b\b\b\b\b\b\b\b\b\b\b\b\b\b\b\b\b\b\b\b\b\b\b\b\b\b\b\b\b\b\b\b\b\b\b\b\b\b\b\b\b\b\b\b\b\b\b\b\b\b\b\b\b\b\b\r",
      "1/1 [==============================] - 0s 818us/step - loss: 1.4360\n"
     ]
    },
    {
     "name": "stdout",
     "output_type": "stream",
     "text": [
      "Epoch 9/10\n",
      "\r",
      "1/1 [==============================] - ETA: 0s - loss: 1.2999"
     ]
    },
    {
     "name": "stdout",
     "output_type": "stream",
     "text": [
      "\b\b\b\b\b\b\b\b\b\b\b\b\b\b\b\b\b\b\b\b\b\b\b\b\b\b\b\b\b\b\b\b\b\b\b\b\b\b\b\b\b\b\b\b\b\b\b\b\b\b\b\b\b\b\b\b\b\b\b\b\b\r",
      "1/1 [==============================] - 0s 883us/step - loss: 1.2999\n"
     ]
    },
    {
     "name": "stdout",
     "output_type": "stream",
     "text": [
      "Epoch 10/10\n",
      "\r",
      "1/1 [==============================] - ETA: 0s - loss: 1.2104"
     ]
    },
    {
     "name": "stdout",
     "output_type": "stream",
     "text": [
      "\b\b\b\b\b\b\b\b\b\b\b\b\b\b\b\b\b\b\b\b\b\b\b\b\b\b\b\b\b\b\b\b\b\b\b\b\b\b\b\b\b\b\b\b\b\b\b\b\b\b\b\b\b\b\b\b\b\b\b\b\b\r",
      "1/1 [==============================] - 0s 925us/step - loss: 1.2104\n"
     ]
    },
    {
     "data": {
      "text/plain": [
       "<tensorflow.python.keras.callbacks.History at 0x7fb4707e0f28>"
      ]
     },
     "execution_count": 1,
     "metadata": {},
     "output_type": "execute_result"
    }
   ],
   "source": [
    "print(x.shape[0])\n",
    "keras_model.fit(x, y, epochs=10, batch_size=1000)"
   ]
  },
  {
   "cell_type": "markdown",
   "metadata": {
    "id": "8zKZIO9P5s1G"
   },
   "source": [
    "Note that Keras prints out the loss after training, not before, so the first loss appears lower, but otherwise this shows essentially the same training performance."
   ]
  },
  {
   "cell_type": "markdown",
   "metadata": {
    "id": "vPnIVuaSJwWz"
   },
   "source": [
    "## Next steps\n",
    "\n",
    "In this guide, you have seen how to use the core classes of tensors, variables, modules, and gradient tape to build and train a model, and further how those ideas map to Keras.\n",
    "\n",
    "This is, however, an extremely simple problem. For a more practical introduction, see [Custom training walkthrough](../tutorials/customization/custom_training_walkthrough.ipnyb).\n",
    "\n",
    "For more on using built-in Keras training loops, see [this guide](keras/train_and_evaluate.ipynb).  For more on training loops and Keras, see [this guide](keras/writing_a_training_loop_from_scratch.ipynb).  For writing custom distributed training loops, see [this guide](./guide/distributed_training.ipynb#using_tfdistributestrategy_with_basic_training_loops_loops)."
   ]
  }
 ],
 "metadata": {
  "colab": {
   "collapsed_sections": [
    "5rmpybwysXGV",
    "iKD__8kFCKNt",
    "vPnIVuaSJwWz"
   ],
   "name": "basic_training_loops.ipynb",
   "toc_visible": true
  },
  "kernelspec": {
   "display_name": "Python 3",
   "name": "python3"
  },
  "language_info": {
   "codemirror_mode": {
    "name": "ipython",
    "version": 3
   },
   "file_extension": ".py",
   "mimetype": "text/x-python",
   "name": "python",
   "nbconvert_exporter": "python",
   "pygments_lexer": "ipython3",
   "version": "3.6.9"
  }
 },
 "nbformat": 4,
 "nbformat_minor": 0
}
