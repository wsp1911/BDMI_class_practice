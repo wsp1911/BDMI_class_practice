{
 "cells": [
  {
   "cell_type": "code",
   "execution_count": 1,
   "metadata": {},
   "outputs": [],
   "source": [
    "import numpy as np"
   ]
  },
  {
   "cell_type": "code",
   "execution_count": 7,
   "metadata": {},
   "outputs": [
    {
     "name": "stdout",
     "output_type": "stream",
     "text": [
      "[[ 1.42333343  1.10605381  1.07592068]\n",
      " [ 0.39918307  0.11299188 -0.23707997]\n",
      " [ 1.14859824 -0.15426201  0.43890322]]\n",
      "[[[3 0 7 7]\n",
      "  [9 9 2 3]\n",
      "  [2 1 9 6]]\n",
      "\n",
      " [[3 9 0 1]\n",
      "  [6 6 9 4]\n",
      "  [9 9 6 2]]]\n"
     ]
    }
   ],
   "source": [
    "a = np.random.randn(3, 3)\n",
    "print(a)\n",
    "a = np.random.randint(0, 10, (2, 3, 4))\n",
    "print(a)"
   ]
  },
  {
   "cell_type": "code",
   "execution_count": 14,
   "metadata": {},
   "outputs": [
    {
     "name": "stdout",
     "output_type": "stream",
     "text": [
      "[[1.00000000e+000 1.00000000e+000 1.00000000e+000 1.00000000e+000\n",
      "  1.00000000e+000]\n",
      " [9.88680991e-117 9.88680991e-117 9.88680991e-117 9.88680991e-117\n",
      "  9.88680991e-117]]\n"
     ]
    }
   ],
   "source": [
    "x = np.tile(np.array([[22],[35],[86]]),(1,5))\n",
    "W1 = np.random.randn(3,3)\n",
    "b1 = np.random.randn(3,1)\n",
    "H = W1.dot(x)+b1\n",
    "W2 = np.random.randn(2,3)\n",
    "b2 = np.random.randn(2,1)\n",
    "N = W2.dot(H)+b2\n",
    "print(np.exp(N)/np.sum(np.exp(N),axis=0))"
   ]
  },
  {
   "cell_type": "code",
   "execution_count": 15,
   "metadata": {},
   "outputs": [],
   "source": [
    "import tensorflow as tf"
   ]
  },
  {
   "cell_type": "code",
   "execution_count": 16,
   "metadata": {},
   "outputs": [
    {
     "name": "stdout",
     "output_type": "stream",
     "text": [
      "2.3.1\n"
     ]
    }
   ],
   "source": [
    "print(tf.__version__)"
   ]
  },
  {
   "cell_type": "code",
   "execution_count": 17,
   "metadata": {},
   "outputs": [
    {
     "name": "stdout",
     "output_type": "stream",
     "text": [
      "tf.Tensor(3, shape=(), dtype=int32)\n",
      "3\n"
     ]
    }
   ],
   "source": [
    "a = tf.constant(1)\n",
    "b = tf.constant(2)\n",
    "c = a+b\n",
    "print(c)\n",
    "print(c.numpy())"
   ]
  },
  {
   "cell_type": "code",
   "execution_count": 18,
   "metadata": {},
   "outputs": [
    {
     "name": "stdout",
     "output_type": "stream",
     "text": [
      "tf.Tensor(3.0, shape=(), dtype=float32)\n"
     ]
    }
   ],
   "source": [
    "a = tf.constant(3.0)\n",
    "print(a)"
   ]
  },
  {
   "cell_type": "code",
   "execution_count": 23,
   "metadata": {},
   "outputs": [
    {
     "name": "stdout",
     "output_type": "stream",
     "text": [
      "tf.Tensor(\n",
      "[[-0.39654916  0.25407092 -0.61942937  1.46413359]\n",
      " [ 1.83298107 -1.69586694  0.47662743 -0.76361323]\n",
      " [ 0.11032312  0.26902462 -0.15300575 -1.26458317]\n",
      " [ 1.28057626 -0.29599168 -1.39790559 -0.40327057]], shape=(4, 4), dtype=float64)\n",
      "tf.Tensor(\n",
      "[[[ 0.69377874  0.47042032 -1.28868704 -0.52656081 -0.99567025\n",
      "   -0.38601682]\n",
      "  [-0.26981065  0.19827194  0.51045762 -0.46277706 -0.07652056\n",
      "   -1.92449088]\n",
      "  [ 0.36658793 -1.49956088 -0.34069932  0.42602755 -1.02331543\n",
      "   -0.77708677]\n",
      "  [ 0.7630932   1.2227174   1.6351291  -0.25247523  1.10887388\n",
      "    0.65294015]\n",
      "  [ 0.10809529 -0.38716385 -1.71763438 -0.69519228 -0.67029103\n",
      "   -0.39289305]]\n",
      "\n",
      " [[ 0.45541736 -0.44527636  1.00940033  0.21595726 -0.16992463\n",
      "    1.24813905]\n",
      "  [-1.36437492  3.03774577 -0.33471264  0.55817686 -0.92283675\n",
      "   -0.71735114]\n",
      "  [ 1.15138789 -1.7798524   0.05779793  0.14548092  0.90751948\n",
      "    1.43664744]\n",
      "  [ 1.76772853  2.10932129  0.51666951  0.10738758  0.20152577\n",
      "    0.98450674]\n",
      "  [-1.33237144  0.81196105  0.44771776 -1.38100205 -0.26965254\n",
      "    0.69302262]]\n",
      "\n",
      " [[ 0.53976552 -0.81041993 -0.34434932 -1.80190285 -1.60323226\n",
      "   -0.7010615 ]\n",
      "  [ 0.33180421 -0.30199868  0.57747332 -1.07247196  0.29424098\n",
      "   -0.33291037]\n",
      "  [ 0.06983478 -0.16737903 -1.31576349 -1.48692772 -0.08259887\n",
      "   -1.35235284]\n",
      "  [-1.22597755 -0.0142614  -1.24932014 -0.43539706 -0.33742273\n",
      "   -1.18652416]\n",
      "  [-1.41431675  0.58159039 -1.43844206  1.72012356  0.14931171\n",
      "    0.93589516]]\n",
      "\n",
      " [[ 1.75708365  0.06306086 -0.04920586  0.03958615 -0.58784295\n",
      "    0.10159243]\n",
      "  [ 1.00996044 -1.43906575  1.31854403 -0.32118721 -0.54666343\n",
      "    1.37379588]\n",
      "  [-1.64506445  1.12472834  2.02578589  0.01779413 -0.280682\n",
      "   -1.64615602]\n",
      "  [ 0.51970756  1.12227317 -0.49774594 -0.64728136 -0.60040117\n",
      "    0.98376139]\n",
      "  [ 0.12964421  0.64810791 -1.7051864   1.75712357 -0.25653625\n",
      "   -2.44463999]]], shape=(4, 5, 6), dtype=float64)\n"
     ]
    }
   ],
   "source": [
    "a = tf.constant(np.random.randn(4,4))\n",
    "b = tf.constant(np.random.randn(4,5,6))\n",
    "print(a)\n",
    "print(b)"
   ]
  },
  {
   "cell_type": "code",
   "execution_count": 25,
   "metadata": {},
   "outputs": [
    {
     "name": "stdout",
     "output_type": "stream",
     "text": [
      "tf.Tensor([1 2 1 0], shape=(4,), dtype=int64)\n",
      "tf.Tensor([3 0 1 0], shape=(4,), dtype=int64)\n"
     ]
    }
   ],
   "source": [
    "print(tf.argmax(a,axis=0))\n",
    "print(tf.argmax(a,axis=1))"
   ]
  },
  {
   "cell_type": "code",
   "execution_count": 32,
   "metadata": {},
   "outputs": [
    {
     "name": "stdout",
     "output_type": "stream",
     "text": [
      "<tf.Variable 'Variable:0' shape=(2,) dtype=float32, numpy=array([5., 6.], dtype=float32)>\n",
      "<tf.Variable 'Variable:0' shape=(2,) dtype=float32, numpy=array([2., 3.], dtype=float32)>\n"
     ]
    }
   ],
   "source": [
    "x = tf.Variable([2.0,3.0])\n",
    "y = tf.Variable(x)\n",
    "x.assign([5,6])\n",
    "print(x)\n",
    "print(y)"
   ]
  },
  {
   "cell_type": "code",
   "execution_count": 37,
   "metadata": {},
   "outputs": [
    {
     "name": "stdout",
     "output_type": "stream",
     "text": [
      "tf.Tensor(4.7182817, shape=(), dtype=float32)\n"
     ]
    }
   ],
   "source": [
    "x = tf.constant(1.0)\n",
    "with tf.GradientTape() as t:\n",
    "    t.watch(x)\n",
    "    y = x*x+tf.exp(x)\n",
    "\n",
    "print(t.gradient(y,x))"
   ]
  },
  {
   "cell_type": "code",
   "execution_count": null,
   "metadata": {},
   "outputs": [],
   "source": []
  }
 ],
 "metadata": {
  "kernelspec": {
   "display_name": "Python 3",
   "language": "python",
   "name": "python3"
  },
  "language_info": {
   "codemirror_mode": {
    "name": "ipython",
    "version": 3
   },
   "file_extension": ".py",
   "mimetype": "text/x-python",
   "name": "python",
   "nbconvert_exporter": "python",
   "pygments_lexer": "ipython3",
   "version": "3.7.9"
  }
 },
 "nbformat": 4,
 "nbformat_minor": 4
}
