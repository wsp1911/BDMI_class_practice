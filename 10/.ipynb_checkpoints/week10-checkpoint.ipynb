{
 "cells": [
  {
   "cell_type": "code",
   "execution_count": 17,
   "metadata": {},
   "outputs": [],
   "source": [
    "import tensorflow as tf\n",
    "import datetime"
   ]
  },
  {
   "cell_type": "code",
   "execution_count": 8,
   "metadata": {},
   "outputs": [
    {
     "name": "stdout",
     "output_type": "stream",
     "text": [
      "tf.Tensor([[0.8745173]], shape=(1, 1), dtype=float32)\n",
      "tf.Tensor([[0.8745173]], shape=(1, 1), dtype=float32)\n"
     ]
    }
   ],
   "source": [
    "class Dense(tf.Module):\n",
    "    def __init__(self, w, b, name=None):\n",
    "        super().__init__(name=name)\n",
    "        self.w = w\n",
    "        self.b = b\n",
    "    def __call__(self, x):\n",
    "        y = tf.matmul(x, self.w)+self.b\n",
    "        return tf.nn.sigmoid(y)\n",
    "w = tf.Variable([[-3.14],[-2.31],[2.16]])\n",
    "b = tf.Variable([[0.0]])\n",
    "layer = Dense(w,b)\n",
    "x = tf.Variable([[0.0288, -0.3256, 0.5925]])\n",
    "y = layer(x)\n",
    "print(y)\n",
    "print(1/(1+tf.exp(-tf.matmul(x,w)-b)))"
   ]
  },
  {
   "cell_type": "code",
   "execution_count": 15,
   "metadata": {},
   "outputs": [
    {
     "name": "stdout",
     "output_type": "stream",
     "text": [
      "The tensorboard extension is already loaded. To reload it, use:\n",
      "  %reload_ext tensorboard\n"
     ]
    }
   ],
   "source": [
    "%load_ext tensorboard\n",
    "\n",
    "@tf.function\n",
    "def outer_function(x):\n",
    "    y = tf.constant([[2.0],[3.0]])\n",
    "    b = tf.constant(4.0)\n",
    "    return tf.matmul(x,y)+b"
   ]
  },
  {
   "cell_type": "code",
   "execution_count": 40,
   "metadata": {},
   "outputs": [],
   "source": [
    "class Dense(tf.Module):\n",
    "    def __init__(self, in_ftrs, out_ftrs, name=None):\n",
    "        super().__init__(name=name)\n",
    "        self.w = tf.Variable(tf.random.normal([in_ftrs, out_ftrs]), name=\"w\")\n",
    "        self.b = tf.Variable(tf.zeros([out_ftrs]), name='b')\n",
    "    def __call__(self, x):\n",
    "        y = tf.matmul(x, self.w)+self.b\n",
    "        return tf.nn.sigmoid(y)\n",
    "    \n",
    "class SequentialModel(tf.Module):\n",
    "    def __init__(self,name=None):\n",
    "        super().__init__(name=name)\n",
    "        \n",
    "        self.dense1 = Dense(in_ftrs=3, out_ftrs=3)\n",
    "        self.dense2 = Dense(in_ftrs=3, out_ftrs=1)\n",
    "    @tf.function\n",
    "    def __call__(self, x):\n",
    "        x = self.dense1(x)\n",
    "        return self.dense2(x)"
   ]
  },
  {
   "cell_type": "code",
   "execution_count": 24,
   "metadata": {},
   "outputs": [
    {
     "data": {
      "text/plain": [
       "[('_CHECKPOINTABLE_OBJECT_GRAPH', []),\n",
       " ('model/dense1/b/.ATTRIBUTES/VARIABLE_VALUE', [3]),\n",
       " ('model/dense1/w/.ATTRIBUTES/VARIABLE_VALUE', [3, 3]),\n",
       " ('model/dense2/b/.ATTRIBUTES/VARIABLE_VALUE', [1]),\n",
       " ('model/dense2/w/.ATTRIBUTES/VARIABLE_VALUE', [3, 1])]"
      ]
     },
     "execution_count": 24,
     "metadata": {},
     "output_type": "execute_result"
    }
   ],
   "source": [
    "path = \"my_checkpoint\"\n",
    "checkpoint = tf.train.Checkpoint(model=model)\n",
    "checkpoint.write(path)\n",
    "\n",
    "tf.train.list_variables(path)"
   ]
  },
  {
   "cell_type": "code",
   "execution_count": 55,
   "metadata": {},
   "outputs": [],
   "source": [
    "class Dense(tf.Module):\n",
    "    def __init__(self, in_ftrs, out_ftrs, name=None):\n",
    "        super().__init__(name=name)\n",
    "        self.w = tf.Variable(tf.random.normal([in_ftrs, out_ftrs]), name=\"w\")\n",
    "        self.b = tf.Variable(tf.zeros([out_ftrs]), name='b')\n",
    "    def __call__(self, x):\n",
    "        y = tf.matmul(x, self.w)+self.b\n",
    "        return tf.nn.sigmoid(y)\n",
    "    \n",
    "class SequentialModel(tf.Module):\n",
    "    def __init__(self,name=None):\n",
    "        super().__init__(name=name)\n",
    "        \n",
    "        self.dense1 = Dense(in_ftrs=3, out_ftrs=3)\n",
    "        self.dense2 = Dense(in_ftrs=3, out_ftrs=1)\n",
    "    @tf.function\n",
    "    def __call__(self, x):\n",
    "        x = self.dense1(x)\n",
    "        return self.dense2(x)"
   ]
  },
  {
   "cell_type": "code",
   "execution_count": 56,
   "metadata": {},
   "outputs": [
    {
     "name": "stdout",
     "output_type": "stream",
     "text": [
      "WARNING:tensorflow:8 out of the last 8 calls to <function SequentialModel.__call__ at 0x00000223B65DB828> triggered tf.function retracing. Tracing is expensive and the excessive number of tracings could be due to (1) creating @tf.function repeatedly in a loop, (2) passing tensors with different shapes, (3) passing Python objects instead of tensors. For (1), please define your @tf.function outside of the loop. For (2), @tf.function has experimental_relax_shapes=True option that relaxes argument shapes that can avoid unnecessary retracing. For (3), please refer to https://www.tensorflow.org/tutorials/customization/performance#python_or_tensor_args and https://www.tensorflow.org/api_docs/python/tf/function for  more details.\n"
     ]
    }
   ],
   "source": [
    "stamp = datetime.datetime.now().strftime(\"%Y%m%d-%H%M%S\")\n",
    "logdir = \"logs/func/%s\" % stamp\n",
    "writer = tf.summary.create_file_writer(logdir)\n",
    "model = SequentialModel(name=\"my_model\")\n",
    "tf.summary.trace_on(graph=True, profiler=True)\n",
    "z = model(tf.constant([[2.0,2.0,2.0]]))\n",
    "with writer.as_default():\n",
    "    tf.summary.trace_export(\n",
    "        name=\"my_func_trace\",\n",
    "        step=0,\n",
    "        profiler_outdir=logdir)"
   ]
  },
  {
   "cell_type": "code",
   "execution_count": 57,
   "metadata": {},
   "outputs": [
    {
     "data": {
      "text/plain": [
       "Reusing TensorBoard on port 6006 (pid 1476), started 0:47:43 ago. (Use '!kill 1476' to kill it.)"
      ]
     },
     "metadata": {},
     "output_type": "display_data"
    },
    {
     "data": {
      "text/html": [
       "\n",
       "      <iframe id=\"tensorboard-frame-97c59471f92e29b1\" width=\"100%\" height=\"800\" frameborder=\"0\">\n",
       "      </iframe>\n",
       "      <script>\n",
       "        (function() {\n",
       "          const frame = document.getElementById(\"tensorboard-frame-97c59471f92e29b1\");\n",
       "          const url = new URL(\"/\", window.location);\n",
       "          const port = 6006;\n",
       "          if (port) {\n",
       "            url.port = port;\n",
       "          }\n",
       "          frame.src = url;\n",
       "        })();\n",
       "      </script>\n",
       "    "
      ],
      "text/plain": [
       "<IPython.core.display.HTML object>"
      ]
     },
     "metadata": {},
     "output_type": "display_data"
    }
   ],
   "source": [
    "%tensorboard --logdir logs/func"
   ]
  },
  {
   "cell_type": "code",
   "execution_count": 65,
   "metadata": {},
   "outputs": [
    {
     "name": "stdout",
     "output_type": "stream",
     "text": [
      "tf.Tensor([[0.7433968]], shape=(1, 1), dtype=float32)\n"
     ]
    }
   ],
   "source": [
    "class Dense(tf.Module):\n",
    "    def __init__(self, in_ftrs, out_ftrs, name=None):\n",
    "        super().__init__(name=name)\n",
    "        self.w = tf.Variable(tf.random.normal([in_ftrs, out_ftrs]), name=\"w\")\n",
    "        self.b = tf.Variable(tf.zeros([out_ftrs]), name='b')\n",
    "    def __call__(self, x):\n",
    "        y = tf.matmul(x, self.w)+self.b\n",
    "        return tf.nn.sigmoid(y)\n",
    "    \n",
    "class SequentialModel(tf.Module):\n",
    "    def __init__(self,name=None):\n",
    "        super().__init__(name=name)\n",
    "        \n",
    "        self.dense1 = Dense(in_ftrs=3, out_ftrs=3)\n",
    "        self.dense2 = Dense(in_ftrs=3, out_ftrs=1)\n",
    "    def __call__(self, x):\n",
    "        x = self.dense1(x)\n",
    "        return self.dense2(x)\n",
    "\n",
    "x = tf.Variable([[3.0,3.0,3.0]])\n",
    "model = SequentialModel()\n",
    "print(model(x))"
   ]
  },
  {
   "cell_type": "code",
   "execution_count": 66,
   "metadata": {},
   "outputs": [
    {
     "name": "stdout",
     "output_type": "stream",
     "text": [
      "INFO:tensorflow:Assets written to: bdmi_model\\assets\n"
     ]
    }
   ],
   "source": [
    "path = \"bdmi_model\"\n",
    "tf.saved_model.save(model, path)\n",
    "new_model = tf.saved_model.load(path)"
   ]
  },
  {
   "cell_type": "code",
   "execution_count": null,
   "metadata": {},
   "outputs": [],
   "source": []
  },
  {
   "cell_type": "code",
   "execution_count": null,
   "metadata": {},
   "outputs": [],
   "source": []
  }
 ],
 "metadata": {
  "kernelspec": {
   "display_name": "Python 3",
   "language": "python",
   "name": "python3"
  },
  "language_info": {
   "codemirror_mode": {
    "name": "ipython",
    "version": 3
   },
   "file_extension": ".py",
   "mimetype": "text/x-python",
   "name": "python",
   "nbconvert_exporter": "python",
   "pygments_lexer": "ipython3",
   "version": "3.7.9"
  }
 },
 "nbformat": 4,
 "nbformat_minor": 4
}
