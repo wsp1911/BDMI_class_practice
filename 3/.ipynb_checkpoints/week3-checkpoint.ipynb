{
 "cells": [
  {
   "cell_type": "code",
   "execution_count": 18,
   "metadata": {},
   "outputs": [
    {
     "name": "stdout",
     "output_type": "stream",
     "text": [
      "E:\\Project\\Python\\BDMI\\class\\test.txt\n",
      "E:\\Project\\Python\\BDMI\\class\n",
      "E:\\Project\\Python\\BDMI\\class\\data\n",
      "False\n",
      "True\n",
      "True\n"
     ]
    }
   ],
   "source": [
    "import os\n",
    "filepath = os.path.realpath('test.txt')\n",
    "print(filepath)\n",
    "dirname = os.path.dirname(filepath)\n",
    "print(dirname)\n",
    "data_dir = os.path.join(dirname,'data')\n",
    "print(data_dir)\n",
    "print(os.path.exists(data_dir))\n",
    "print(os.path.isfile(filepath))\n",
    "print(os.path.isdir(dirname))"
   ]
  },
  {
   "cell_type": "code",
   "execution_count": 21,
   "metadata": {},
   "outputs": [],
   "source": [
    "with open('test.txt','w') as f:\n",
    "    f.write('hello world')"
   ]
  },
  {
   "cell_type": "code",
   "execution_count": 25,
   "metadata": {},
   "outputs": [
    {
     "name": "stdout",
     "output_type": "stream",
     "text": [
      "wsp 电子\n",
      "ztj 车辆\n",
      "shx 车辆\n",
      "zzy 车辆\n",
      "\n"
     ]
    }
   ],
   "source": [
    "info = {}\n",
    "info['wsp'] = '电子'\n",
    "info['ztj'] = '车辆'\n",
    "info['shx'] = '车辆'\n",
    "with open('myclassmates.txt','w') as f:\n",
    "    for key in info.keys():\n",
    "        f.write(key+' '+info[key]+'\\n')\n",
    "info['zzy'] = '车辆'\n",
    "with open('myclassmates.txt','a') as f:\n",
    "    key = 'zzy'\n",
    "    f.write(key+' '+info[key]+'\\n')\n",
    "with open('myclassmates.txt','r') as f:\n",
    "    print(f.read())"
   ]
  },
  {
   "cell_type": "code",
   "execution_count": 35,
   "metadata": {},
   "outputs": [
    {
     "name": "stdout",
     "output_type": "stream",
     "text": [
      "[68, 30, 38, 18, 40, 24, 60, 55, 98, 3, 39, 64, 68, 80, 13, 36, 77, 51, 86, 73]\n",
      "[68, 30, 38, 18, 40, 24, 60, 55, 98, 3, 39, 64, 68, 80, 13, 36, 77, 51, 86, 73]\n",
      "[3, 13, 18, 24, 30, 36, 38, 39, 40, 51, 55, 60, 64, 68, 68, 73, 77, 80, 86, 98]\n"
     ]
    }
   ],
   "source": [
    "import random\n",
    "data = [random.randint(0,100) for i in range(20)]\n",
    "print(data)\n",
    "with open('data.txt','w') as f:\n",
    "    for item in data:\n",
    "        f.write(str(item)+'\\n')\n",
    "data_copy = []\n",
    "with open('data.txt','r') as f:\n",
    "    for line in f.readlines():\n",
    "        data_copy.append(int(line[:-1]))\n",
    "print(data_copy)\n",
    "print(sorted(data))"
   ]
  },
  {
   "cell_type": "code",
   "execution_count": 52,
   "metadata": {},
   "outputs": [],
   "source": [
    "from tkinter import *\n",
    "\n",
    "def add():\n",
    "    num = num_box.get().split()\n",
    "    res_box['text'] = str(int(num[0])+int(num[1]))\n",
    "\n",
    "window = Tk()\n",
    "window.geometry('300x300')\n",
    "\n",
    "num_box = Entry(text=0)\n",
    "num_box.place(x=0,y=0,width=100,height=100)\n",
    "res_box = Message(text=0)\n",
    "res_box.place(x=100,y=100,width=100,height=100)\n",
    "res_box['bg'] = 'white'\n",
    "res_box['fg'] = 'red'\n",
    "\n",
    "button1 = Button(text='a+b',command=add)\n",
    "button1.place(x=200,y=200,width=100,height=100)\n",
    "\n",
    "window.mainloop()"
   ]
  },
  {
   "cell_type": "code",
   "execution_count": 59,
   "metadata": {},
   "outputs": [
    {
     "name": "stdout",
     "output_type": "stream",
     "text": [
      "111\n",
      "[0, 1, 1, 1, 2, 3, 3, 4, 4, 5, 6, 6, 7, 7, 7, 8, 9, 10, 11, 13, 13, 13, 15, 15, 15, 19, 20, 20, 20, 21, 22, 25, 29, 30, 32, 33, 33, 34, 34, 35, 35, 36, 36, 38, 40, 44, 44, 45, 45, 46, 46, 47, 49, 51, 52, 53, 55, 57, 58, 59, 59, 60, 62, 63, 63, 64, 65, 66, 68, 69, 69, 70, 72, 72, 72, 74, 74, 75, 75, 76, 76, 77, 77, 77, 77, 78, 79, 79, 80, 80, 81, 81, 81, 82, 83, 83, 84, 85, 87, 87, 89, 90, 90, 92, 95, 96, 97, 99, 99, 100, 100]\n"
     ]
    }
   ],
   "source": [
    "import random\n",
    "\n",
    "def merge(A,B):\n",
    "    i = 0\n",
    "    j = 0\n",
    "    C = []\n",
    "    while i<len(A) and j<len(B):\n",
    "        if(A[i]<B[j]):\n",
    "            C.append(A[i])\n",
    "            i += 1\n",
    "        else:\n",
    "            C.append(B[j])\n",
    "            j += 1\n",
    "    if i==len(A) and j<len(B):\n",
    "        C = C+B[j:]\n",
    "    if i<len(A) and j==len(B):\n",
    "        C = C+A[i:]\n",
    "    return C\n",
    "\n",
    "A = sorted([random.randint(0,100) for i in range(100)])\n",
    "B = sorted([random.randint(0,100) for i in range(11)])\n",
    "C = merge(A,B)\n",
    "print(len(C))\n",
    "print(C)"
   ]
  },
  {
   "cell_type": "code",
   "execution_count": null,
   "metadata": {},
   "outputs": [],
   "source": []
  }
 ],
 "metadata": {
  "kernelspec": {
   "display_name": "Python 3",
   "language": "python",
   "name": "python3"
  },
  "language_info": {
   "codemirror_mode": {
    "name": "ipython",
    "version": 3
   },
   "file_extension": ".py",
   "mimetype": "text/x-python",
   "name": "python",
   "nbconvert_exporter": "python",
   "pygments_lexer": "ipython3",
   "version": "3.7.9"
  }
 },
 "nbformat": 4,
 "nbformat_minor": 4
}
