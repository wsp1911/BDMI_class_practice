{
 "cells": [
  {
   "cell_type": "code",
   "execution_count": 1,
   "metadata": {},
   "outputs": [],
   "source": [
    "import numpy as np"
   ]
  },
  {
   "cell_type": "code",
   "execution_count": 8,
   "metadata": {},
   "outputs": [
    {
     "name": "stdout",
     "output_type": "stream",
     "text": [
      "[[1 2 3]\n",
      " [4 5 6]]\n",
      "[[1.+0.j 2.+0.j 3.+0.j]\n",
      " [4.+0.j 5.+0.j 6.+0.j]]\n"
     ]
    }
   ],
   "source": [
    "a = np.array([(1,2,3),[4,5,6]])\n",
    "print(a)\n",
    "a = np.array([[1,2,3],[4,5,6]],dtype=complex)\n",
    "print(a)"
   ]
  },
  {
   "cell_type": "code",
   "execution_count": 9,
   "metadata": {},
   "outputs": [
    {
     "name": "stdout",
     "output_type": "stream",
     "text": [
      "[[3. 3. 3. 3.]\n",
      " [3. 3. 3. 3.]]\n"
     ]
    }
   ],
   "source": [
    "a = np.ones((2,3))\n",
    "b = np.ones((3,4))\n",
    "print(np.dot(a,b))"
   ]
  },
  {
   "cell_type": "code",
   "execution_count": 10,
   "metadata": {},
   "outputs": [
    {
     "name": "stdout",
     "output_type": "stream",
     "text": [
      "[[5 2 8 4 6 9]\n",
      " [9 0 6 0 0 4]\n",
      " [2 3 3 9 9 4]\n",
      " [5 9 2 8 8 8]\n",
      " [5 5 7 4 6 8]]\n",
      "[[5 2 8 4 6 9 9 0 6 0]\n",
      " [0 4 2 3 3 9 9 4 5 9]\n",
      " [2 8 8 8 5 5 7 4 6 8]]\n",
      "[5 2 8 4 6 9 9 0 6 0 0 4 2 3 3 9 9 4 5 9 2 8 8 8 5 5 7 4 6 8]\n",
      "[[5 9 2 5 5]\n",
      " [2 0 3 9 5]\n",
      " [8 6 3 2 7]\n",
      " [4 0 9 8 4]\n",
      " [6 0 9 8 6]\n",
      " [9 4 4 8 8]]\n"
     ]
    }
   ],
   "source": [
    "a = np.random.randint(0,10,(5,6))\n",
    "print(a)\n",
    "b = a.reshape(3,10)\n",
    "print(b)\n",
    "print(b.ravel())\n",
    "print(a.transpose())"
   ]
  },
  {
   "cell_type": "code",
   "execution_count": 13,
   "metadata": {},
   "outputs": [
    {
     "name": "stdout",
     "output_type": "stream",
     "text": [
      "[[1. 0. 0. 0.]\n",
      " [0. 1. 0. 0.]\n",
      " [0. 0. 1. 0.]\n",
      " [0. 0. 0. 1.]]\n",
      "[[1. 0. 0. 0.]\n",
      " [0. 1. 0. 0.]\n",
      " [0. 0. 1. 0.]\n",
      " [0. 0. 0. 1.]]\n"
     ]
    }
   ],
   "source": [
    "a = np.identity(4)\n",
    "print(a)\n",
    "b = np.eye(4)\n",
    "print(b)"
   ]
  },
  {
   "cell_type": "code",
   "execution_count": 16,
   "metadata": {},
   "outputs": [
    {
     "name": "stdout",
     "output_type": "stream",
     "text": [
      "[[17 64  2 56 36 47 57 10 63 88]]\n",
      "88\n",
      "2\n",
      "44.0\n"
     ]
    }
   ],
   "source": [
    "a = np.random.randint(0,100,(1,10))\n",
    "print(a)\n",
    "print(a.max())\n",
    "print(a.argmin())\n",
    "print(a.mean())"
   ]
  },
  {
   "cell_type": "code",
   "execution_count": 21,
   "metadata": {},
   "outputs": [],
   "source": [
    "import matplotlib.pyplot as plt"
   ]
  },
  {
   "cell_type": "code",
   "execution_count": 19,
   "metadata": {},
   "outputs": [
    {
     "data": {
      "text/plain": [
       "[<matplotlib.lines.Line2D at 0x29c36e72e88>]"
      ]
     },
     "execution_count": 19,
     "metadata": {},
     "output_type": "execute_result"
    },
    {
     "data": {
      "image/png": "[encoded data removed]",
      "text/plain": [
       "<Figure size 432x288 with 1 Axes>"
      ]
     },
     "metadata": {
      "needs_background": "light"
     },
     "output_type": "display_data"
    }
   ],
   "source": [
    "def tanh(x):\n",
    "    tmp1, tmp2 = np.exp(x),np.exp(-x)\n",
    "    return (tmp1-tmp2)/(tmp1+tmp2)\n",
    "x = np.arange(-5,5,0.01)\n",
    "y = tanh(x)\n",
    "plt.plot(x,y)"
   ]
  },
  {
   "cell_type": "code",
   "execution_count": 20,
   "metadata": {},
   "outputs": [
    {
     "data": {
      "text/plain": [
       "[<matplotlib.lines.Line2D at 0x29c36efc648>]"
      ]
     },
     "execution_count": 20,
     "metadata": {},
     "output_type": "execute_result"
    },
    {
     "data": {
      "image/png": "[encoded data removed]",
      "text/plain": [
       "<Figure size 432x288 with 1 Axes>"
      ]
     },
     "metadata": {
      "needs_background": "light"
     },
     "output_type": "display_data"
    }
   ],
   "source": [
    "def sigmoid(x):\n",
    "    return 1/(1+np.exp(-x))\n",
    "x = np.arange(-5,5,0.01)\n",
    "y = sigmoid(x)\n",
    "plt.plot(x,y)"
   ]
  },
  {
   "cell_type": "code",
   "execution_count": 22,
   "metadata": {},
   "outputs": [
    {
     "data": {
      "text/plain": [
       "[<matplotlib.lines.Line2D at 0x29c369b16c8>]"
      ]
     },
     "execution_count": 22,
     "metadata": {},
     "output_type": "execute_result"
    },
    {
     "data": {
      "image/png": "[encoded data removed]",
      "text/plain": [
       "<Figure size 432x288 with 1 Axes>"
      ]
     },
     "metadata": {
      "needs_background": "light"
     },
     "output_type": "display_data"
    }
   ],
   "source": [
    "def ReLU(x):\n",
    "    return (x>=0)*x\n",
    "x = np.arange(-5,5,0.01)\n",
    "y = ReLU(x)\n",
    "plt.plot(x,y)"
   ]
  },
  {
   "cell_type": "code",
   "execution_count": 26,
   "metadata": {},
   "outputs": [
    {
     "name": "stdout",
     "output_type": "stream",
     "text": [
      "0.49\n"
     ]
    }
   ],
   "source": [
    "def ReLU(x):\n",
    "    return (x>=0)*x\n",
    "def neuron(x,w):\n",
    "    return ReLU(np.sum(x*w))\n",
    "x = np.array([1,0,1])\n",
    "w = np.array([-0.21,0.3,0.7])\n",
    "y = neuron(x,w)\n",
    "print(y)"
   ]
  },
  {
   "cell_type": "code",
   "execution_count": 27,
   "metadata": {},
   "outputs": [
    {
     "name": "stdout",
     "output_type": "stream",
     "text": [
      "0.6201064323430902\n"
     ]
    }
   ],
   "source": [
    "def sigmoid(x):\n",
    "    return 1/(1+np.exp(-x))\n",
    "def neuron(x,w):\n",
    "    return sigmoid(np.sum(x*w))\n",
    "x = np.array([1,0,1])\n",
    "w = np.array([-0.21,0.3,0.7])\n",
    "y = neuron(x,w)\n",
    "print(y)"
   ]
  },
  {
   "cell_type": "code",
   "execution_count": 41,
   "metadata": {},
   "outputs": [
    {
     "name": "stdout",
     "output_type": "stream",
     "text": [
      "0\n",
      "0\n",
      "0\n",
      "1\n",
      "\n",
      "\n",
      "0\n",
      "1\n",
      "1\n",
      "1\n",
      "\n",
      "\n",
      "1\n",
      "0\n",
      "\n",
      "\n",
      "1\n",
      "1\n",
      "1\n",
      "0\n",
      "\n",
      "\n",
      "0\n",
      "1\n",
      "1\n",
      "0\n",
      "\n",
      "\n"
     ]
    }
   ],
   "source": [
    "def sigmoid(x):\n",
    "    return 1/(1+np.exp(-x))\n",
    "\n",
    "def AND(x):\n",
    "    w = np.array([20,20])\n",
    "    b = -30\n",
    "    return sigmoid(np.sum(x*w)+b)\n",
    "\n",
    "def OR(x):\n",
    "    w = np.array([20,20])\n",
    "    b = -10\n",
    "    return sigmoid(np.sum(x*w)+b)\n",
    "\n",
    "def NOT(x):\n",
    "    w = -20\n",
    "    b = 10\n",
    "    return sigmoid(x*w+b)\n",
    "\n",
    "def NAND(x):\n",
    "    w = np.array([-20,-20])\n",
    "    b = 30\n",
    "    return sigmoid(np.sum(x*w)+b)\n",
    "\n",
    "def XOR(x):\n",
    "    Y1 = OR(x)\n",
    "    Y2 = NAND(x)\n",
    "    return AND(np.array([Y1,Y2]))\n",
    "    \n",
    "x = np.array([[0,0],[0,1],[1,0],[1,1]])\n",
    "for i in range(4):\n",
    "    print(round(AND(x[i,:])))\n",
    "print(\"\\n\")\n",
    "for i in range(4):\n",
    "    print(round(OR(x[i,:])))\n",
    "print(\"\\n\")\n",
    "for i in range(2):\n",
    "    print(round(NOT(i)))\n",
    "print(\"\\n\")\n",
    "for i in range(4):\n",
    "    print(round(NAND(x[i,:])))\n",
    "print(\"\\n\")\n",
    "for i in range(4):\n",
    "    print(round(XOR(x[i,:])))\n",
    "print(\"\\n\")"
   ]
  },
  {
   "cell_type": "code",
   "execution_count": 47,
   "metadata": {},
   "outputs": [
    {
     "name": "stdout",
     "output_type": "stream",
     "text": [
      "[[1 2 3]\n",
      " [4 5 6]]\n"
     ]
    }
   ],
   "source": [
    "a = np.array([1,2,3])\n",
    "b = np.array([4,5,6])\n",
    "print(np.array([a,b]))"
   ]
  },
  {
   "cell_type": "code",
   "execution_count": 49,
   "metadata": {},
   "outputs": [
    {
     "name": "stdout",
     "output_type": "stream",
     "text": [
      "[8.71254988e-02 2.36831660e-01 6.43775199e-01 3.20516798e-02\n",
      " 2.15962520e-04]\n"
     ]
    }
   ],
   "source": [
    "def softmax(x):\n",
    "    y = np.exp(x)\n",
    "    return y/np.sum(y)\n",
    "x = np.array([1,2,3,0,-5])\n",
    "print(softmax(x))"
   ]
  },
  {
   "cell_type": "code",
   "execution_count": 56,
   "metadata": {},
   "outputs": [
    {
     "data": {
      "text/plain": [
       "[<matplotlib.lines.Line2D at 0x29c36f93f08>]"
      ]
     },
     "execution_count": 56,
     "metadata": {},
     "output_type": "execute_result"
    },
    {
     "data": {
      "image/png": "[encoded data removed]",
      "text/plain": [
       "<Figure size 432x288 with 1 Axes>"
      ]
     },
     "metadata": {
      "needs_background": "light"
     },
     "output_type": "display_data"
    }
   ],
   "source": [
    "def logit(x):\n",
    "    return np.log(x/(1-x))\n",
    "x = np.arange(0.001,0.999,0.001)\n",
    "y = logit(x)\n",
    "plt.plot(x,y)"
   ]
  },
  {
   "cell_type": "code",
   "execution_count": null,
   "metadata": {},
   "outputs": [],
   "source": []
  }
 ],
 "metadata": {
  "kernelspec": {
   "display_name": "Python 3",
   "language": "python",
   "name": "python3"
  },
  "language_info": {
   "codemirror_mode": {
    "name": "ipython",
    "version": 3
   },
   "file_extension": ".py",
   "mimetype": "text/x-python",
   "name": "python",
   "nbconvert_exporter": "python",
   "pygments_lexer": "ipython3",
   "version": "3.7.9"
  }
 },
 "nbformat": 4,
 "nbformat_minor": 4
}
